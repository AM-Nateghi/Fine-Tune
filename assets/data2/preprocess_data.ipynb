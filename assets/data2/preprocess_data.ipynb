{
 "cells": [
  {
   "cell_type": "code",
   "execution_count": 13,
   "id": "2acf5ec6",
   "metadata": {},
   "outputs": [],
   "source": [
    "import re\n",
    "import json\n",
    "from tqdm import tqdm\n",
    "import random\n",
    "\n",
    "\n",
    "def clean_text(text):\n",
    "    text = re.sub(r\"[\\n\\r\\t]\", \" \", text)  # حذف کاراکترهای کنترلی\n",
    "    text = re.sub(r\"&\\w+;\", \"\", text)  # حذف HTML entities مثل &zwj;\n",
    "    text = re.sub(r\"\\u200c\", \"\", text)  # حذف ZWNJ\n",
    "    text = re.sub(r\"\\s+\", \" \", text).strip()  # نرمال‌سازی فاصله‌ها\n",
    "    return text\n",
    "\n",
    "def clean_html_tags(text):\n",
    "    text = re.sub(r'(?i)<br\\s*/?>', '\\n', text)\n",
    "    text = re.sub(r'<[^>]*style=\"[^\"]*\"[^>]*>', \"\", text)  # حذف تگ‌های با style\n",
    "    text = re.sub(r\"<[^>]+>\", \"\", text)  # حذف باقی تگ‌ها\n",
    "    return text"
   ]
  },
  {
   "cell_type": "code",
   "execution_count": 14,
   "id": "284b89d2",
   "metadata": {},
   "outputs": [
    {
     "name": "stdout",
     "output_type": "stream",
     "text": [
      "{'_id': {'$oid': '5f487831115cc97a68b4692f'}, 'Text': '<p dir=\"rtl\">تو درس گفتیم: همه آدما دنبال لذت بیشتر و رنج کمترن...</p>\\n<p dir=\"rtl\">گفتن کلماتی مثل #همه و #هیچ یه خُرده سخته. چون برای نقدشون کافیه یه مثال نقض بزنیم ؛ یکی از دوستامون یه مثال نقض پیدا کرده ... مثالش رو بررسی کن ؛ خوب توضیح بده که حرف ما رو نقض میکنه یا نه :&nbsp;</p>\\n<p dir=\"rtl\">🔸 اون&zwnj; آدمی که کلی دنبال موفقیت های بازیگر مورد علاقشه و با کلی شوق و ذوق اخبارش رو پیگیری میکنه ؛ این کجا دنبال لذت و منفعت خودشه؛ آخه موفقیت های دیگران به این چه؟</p>', 'Info': '<p>اون فرد خودش رو با بازیگر مورد علاقه اش متحد فرض کرده برای همین از موفقیت اونو موفقیت خودش میبینه.</p>', 'State': True, 'Score': 20, 'Category': ['لذت بیشتر '], 'isRequired': 'اجباری', 'Attachment': None, 'Order': 0, 'ResponseList': {'Type': 4, 'Items': [{'ID': 'fe35d856-37d1-4826-83d0-c572f5b12654', 'Type': 'Text', 'Title': 'پاسخت رو اینجا تایپ کن', 'Required': True, 'MaxLength': '1000', 'Solution': []}]}, 'Credit': 0}\n"
     ]
    }
   ],
   "source": [
    "import json\n",
    "\n",
    "with open(\"./NateghiAI.Question.json\") as f:\n",
    "    data = json.load(f)\n",
    "\n",
    "print(data[0])"
   ]
  },
  {
   "cell_type": "code",
   "execution_count": 16,
   "id": "e6c55f38",
   "metadata": {},
   "outputs": [
    {
     "name": "stderr",
     "output_type": "stream",
     "text": [
      "Cleaning JSON: 100%|██████████| 3013/3013 [00:00<00:00, 59886.54it/s]"
     ]
    },
    {
     "name": "stdout",
     "output_type": "stream",
     "text": [
      "3009\n"
     ]
    },
    {
     "name": "stderr",
     "output_type": "stream",
     "text": [
      "\n"
     ]
    }
   ],
   "source": [
    "# پاک‌سازی با tqdm\n",
    "c = 0\n",
    "docs = []\n",
    "for item in tqdm(data, desc=\"Cleaning JSON\"):\n",
    "    cl = {}\n",
    "    if item.get(\"Text\"):\n",
    "        cl[\"text\"] = clean_html_tags(item[\"Text\"])\n",
    "        cl[\"text\"] = clean_text(cl[\"text\"])\n",
    "    else:\n",
    "        continue\n",
    "    if item.get(\"_id\"):\n",
    "        cl[\"_id\"] = item[\"_id\"][\"$oid\"]\n",
    "    c += 1\n",
    "    docs.append(cl)\n",
    "\n",
    "\n",
    "print(c)\n",
    "\n",
    "with open(\"NateghiAI.Question.Cleaned.json\", \"w\", encoding=\"utf-8\") as f:\n",
    "    json.dump(docs, f, ensure_ascii=False, indent=2)"
   ]
  }
 ],
 "metadata": {
  "kernelspec": {
   "display_name": ".env",
   "language": "python",
   "name": "python3"
  },
  "language_info": {
   "codemirror_mode": {
    "name": "ipython",
    "version": 3
   },
   "file_extension": ".py",
   "mimetype": "text/x-python",
   "name": "python",
   "nbconvert_exporter": "python",
   "pygments_lexer": "ipython3",
   "version": "3.12.3"
  }
 },
 "nbformat": 4,
 "nbformat_minor": 5
}
