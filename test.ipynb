{
 "cells": [
  {
   "cell_type": "code",
   "execution_count": null,
   "id": "8d79bff7",
   "metadata": {},
   "outputs": [
    {
     "name": "stderr",
     "output_type": "stream",
     "text": [
      "/home/ai/Desktop/Fine-Tune/.env/lib/python3.12/site-packages/tqdm/auto.py:21: TqdmWarning: IProgress not found. Please update jupyter and ipywidgets. See https://ipywidgets.readthedocs.io/en/stable/user_install.html\n",
      "  from .autonotebook import tqdm as notebook_tqdm\n"
     ]
    },
    {
     "name": "stdout",
     "output_type": "stream",
     "text": [
      "\u001b[1muser: \u001b[0m AM-Nateghi\n"
     ]
    }
   ],
   "source": [
    "import huggingface_hub\n",
    "hf_token = '' # put your User Access Tokens here\n",
    "# ابتدا login کنید\n",
    "huggingface_hub.login(token=hf_token)\n",
    "\n",
    "# سپس وضعیت ورود را بررسی کنید\n",
    "!hf auth whoami"
   ]
  },
  {
   "cell_type": "code",
   "execution_count": 2,
   "id": "6ff9a636",
   "metadata": {},
   "outputs": [],
   "source": [
    "# ================================================================\n",
    "# Text Normalization\n",
    "# ================================================================\n",
    "ARABIC_TO_PERSIAN = {\"\\u064a\": \"ی\", \"\\u0643\": \"ک\", \"\\u06cc\": \"ی\"}\n",
    "PERSIAN_DIGITS_TO_EN = {f\"۰۱۲۳۴۵۶۷۸۹\"[i]: str(i) for i in range(10)}\n",
    "\n",
    "\n",
    "def normalize_text(text: str) -> str:\n",
    "    \"\"\"Normalize Persian text\"\"\"\n",
    "    if not isinstance(text, str):\n",
    "        return \"\"\n",
    "    for ar, fa in ARABIC_TO_PERSIAN.items():\n",
    "        text = text.replace(ar, fa)\n",
    "    for fa, en in PERSIAN_DIGITS_TO_EN.items():\n",
    "        text = text.replace(fa, en)\n",
    "    text = \" \".join(text.split())\n",
    "    text = text.replace(\" ؟\", \"؟\").replace(\"،\", \"، \")\n",
    "    return \" \".join(text.split())"
   ]
  },
  {
   "cell_type": "code",
   "execution_count": 3,
   "id": "f4de4953",
   "metadata": {},
   "outputs": [
    {
     "name": "stdout",
     "output_type": "stream",
     "text": [
      "ok!\n"
     ]
    }
   ],
   "source": [
    "import torch\n",
    "from transformers import AutoModelForCausalLM, AutoTokenizer\n",
    "from peft import PeftModel\n",
    "\n",
    "torch.cuda.empty_cache()\n",
    "\n",
    "cptk = \"google/gemma-3-270m\"\n",
    "\n",
    "# بارگذاری tokenizer\n",
    "tokenizer = AutoTokenizer.from_pretrained(\"outputs/gemma3_qlora/phase1/checkpoint-500/\")\n",
    "# بارگذاری مدل پایه\n",
    "base_model = AutoModelForCausalLM.from_pretrained(cptk)\n",
    "# بارگذاری LoRA روی مدل پایه\n",
    "model = PeftModel.from_pretrained(base_model, \"outputs/gemma3_qlora/phase1/checkpoint-500/\")\n",
    "# انتقال به GPU\n",
    "model.to(\"cuda\")\n",
    "print(\"ok!\")"
   ]
  },
  {
   "cell_type": "code",
   "execution_count": 5,
   "id": "149b75c7",
   "metadata": {},
   "outputs": [
    {
     "name": "stdout",
     "output_type": "stream",
     "text": [
      "سوال: چرا خواب های ما واقعی هستند؟ اصلا چطور میشه به وجودشون پی برد؟\n",
      "پاسخ: 1. خواب ها رو هم به هم نزدیک میکنند، و هم به خودشان میگن \"کتابات موجود در خواب\" و همه خواب ها دارای بعضا یک کتاب است. 2. اما برای خواب های حقیقی و حقیقیون زندگی خواب انسان و برای خواب های حقیقی و حقیقیون فرار انسان ها در همین خواب ها در حقیقت عشق و نفرت و احساسات هستند و ما نمی دانیم حقیقت را از درون ما بگیریم. 3. انسان ها در خواب های واقعی و حقیقی زندگی میبینند که به خاطر ما انسان همون ما نیست، اما خواب های حقیقی و حقیقی هستهمن و ما رو بفهمیم که انسان ها در خواب های حقیقی زندگی و واقعا توحید نیستند.\n",
      "شما به هر خواب های واقعی و حقیقی دنیا میگن با توجه به جنس ما هم فرق میکند.\n",
      "پاسخ: 1. فرار از انسان ها بر روی خواب ها انسان هم برنده و فراتر از خواب انسان ها برنده نیستند و ما انسان ها برنده نیستیم و وقتی این موجودات دنیا براش رو ببرند هم در حقیقت فرار و لذت اندیشی و عشق ندارند و به اندازه ما و در حقیقت انسان های کاملا مردمی نیستند. 2. همون خواب ها انسان ها هم به فکر این عشق و هم به فکر این لذة است که میگن انسانها عاشق نیستند و عشق نیستند و واقعیا همون لذات زندگیش را عشق میگیرند و حالتی ها از لذت زندگیش در آنست که همگرایی و هم عشق از لذات زندگیش در آن است. 3. ولی در خواب های حقیقی این عالم بدتر و خوشمزهتر نیست و فرار از انسان ها را به خاطر لذت بردن و فرار از انسان ها همبرمیگیرند و عشق همگرایی و هم عشق حقیقی هست و این عشق فرار انسان ها است. 4. انسان ها هم روی فرار از انسانها هستند و ما میبینیم و در حقیقت خواب ها را روی فرار انسان ها برداریم و در حقیقت انسان ها برنده شدن نیستند و فرار میگیرند و عشق فرار میگیرند. 5. در خواب های حقیقی فرار انسان ها هم فرار دنیایی از انسان ها نیست و فرار دنیایی است و انسان ها فرار دنیایی است و زندگی در خواب های حقیقی است که در حقیقت عشق واقع میگیرند و همگرایی و هم عشق همگرایی نیست و\n"
     ]
    }
   ],
   "source": [
    "q_norm = normalize_text(\"چرا خواب های ما واقعی هستند؟ اصلا چطور میشه به وجودشون پی برد؟\")\n",
    "text = f\"سوال: {q_norm}\\nپاسخ: \"\n",
    "output = tokenizer.decode(\n",
    "    model.generate(\n",
    "        **tokenizer(text, return_tensors=\"pt\").to(\n",
    "            \"cuda\"\n",
    "        ),\n",
    "        max_new_tokens=512,\n",
    "    )[0],\n",
    "    skip_special_tokens=True\n",
    ")\n",
    "print(output)"
   ]
  }
 ],
 "metadata": {
  "kernelspec": {
   "display_name": ".env",
   "language": "python",
   "name": "python3"
  },
  "language_info": {
   "codemirror_mode": {
    "name": "ipython",
    "version": 3
   },
   "file_extension": ".py",
   "mimetype": "text/x-python",
   "name": "python",
   "nbconvert_exporter": "python",
   "pygments_lexer": "ipython3",
   "version": "3.12.3"
  }
 },
 "nbformat": 4,
 "nbformat_minor": 5
}
