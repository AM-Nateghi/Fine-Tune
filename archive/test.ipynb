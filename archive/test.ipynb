{
 "cells": [
  {
   "cell_type": "code",
   "execution_count": null,
   "id": "8d79bff7",
   "metadata": {},
   "outputs": [
    {
     "name": "stdout",
     "output_type": "stream",
     "text": [
      "\u001b[1muser: \u001b[0m AM-Nateghi\n"
     ]
    }
   ],
   "source": [
    "import huggingface_hub\n",
    "hf_token = '' # put your User Access Tokens here\n",
    "# ابتدا login کنید\n",
    "huggingface_hub.login(token=hf_token)\n",
    "\n",
    "# سپس وضعیت ورود را بررسی کنید\n",
    "!hf auth whoami"
   ]
  },
  {
   "cell_type": "code",
   "execution_count": 1,
   "id": "6ff9a636",
   "metadata": {},
   "outputs": [],
   "source": [
    "# ================================================================\n",
    "# Text Normalization\n",
    "# ================================================================\n",
    "ARABIC_TO_PERSIAN = {\"\\u064a\": \"ی\", \"\\u0643\": \"ک\", \"\\u06cc\": \"ی\"}\n",
    "PERSIAN_DIGITS_TO_EN = {f\"۰۱۲۳۴۵۶۷۸۹\"[i]: str(i) for i in range(10)}\n",
    "\n",
    "\n",
    "def normalize_text(text: str) -> str:\n",
    "    \"\"\"Normalize Persian text\"\"\"\n",
    "    if not isinstance(text, str):\n",
    "        return \"\"\n",
    "    for ar, fa in ARABIC_TO_PERSIAN.items():\n",
    "        text = text.replace(ar, fa)\n",
    "    for fa, en in PERSIAN_DIGITS_TO_EN.items():\n",
    "        text = text.replace(fa, en)\n",
    "    text = \" \".join(text.split())\n",
    "    text = text.replace(\" ؟\", \"؟\").replace(\"،\", \"، \")\n",
    "    return \" \".join(text.split())"
   ]
  },
  {
   "cell_type": "code",
   "execution_count": 2,
   "id": "f4de4953",
   "metadata": {},
   "outputs": [
    {
     "name": "stderr",
     "output_type": "stream",
     "text": [
      "/home/ai/Desktop/Fine-Tune/.env/lib/python3.12/site-packages/tqdm/auto.py:21: TqdmWarning: IProgress not found. Please update jupyter and ipywidgets. See https://ipywidgets.readthedocs.io/en/stable/user_install.html\n",
      "  from .autonotebook import tqdm as notebook_tqdm\n",
      "/home/ai/Desktop/Fine-Tune/.env/lib/python3.12/site-packages/peft/tuners/tuners_utils.py:693: UserWarning: Model with `tie_word_embeddings=True` and the tied_target_modules=['model.embed_tokens'] are part of the adapter. This can lead to complications, for example when merging the adapter or converting your model to formats other than safetensors. See for example https://github.com/huggingface/peft/issues/2018.\n",
      "  warnings.warn(\n"
     ]
    },
    {
     "name": "stdout",
     "output_type": "stream",
     "text": [
      "ok!\n"
     ]
    }
   ],
   "source": [
    "import torch\n",
    "from transformers import AutoModelForCausalLM, AutoTokenizer\n",
    "from peft import PeftModel\n",
    "\n",
    "torch.cuda.empty_cache()\n",
    "\n",
    "cptk = \"google/gemma-3-270m\"\n",
    "\n",
    "# بارگذاری tokenizer\n",
    "tokenizer = AutoTokenizer.from_pretrained(\"../outputs/gemma3_weighted/final/\")\n",
    "# بارگذاری مدل پایه\n",
    "base_model = AutoModelForCausalLM.from_pretrained(cptk)\n",
    "# بارگذاری LoRA روی مدل پایه\n",
    "model = PeftModel.from_pretrained(base_model, \"../outputs/gemma3_weighted/final/\")\n",
    "# انتقال به GPU\n",
    "model.to(\"cuda\")\n",
    "print(\"ok!\")"
   ]
  },
  {
   "cell_type": "code",
   "execution_count": 8,
   "id": "149b75c7",
   "metadata": {},
   "outputs": [
    {
     "name": "stdout",
     "output_type": "stream",
     "text": [
      "سوال: چه نوع لذتی می‌تواند در انجام کارهای ناگفتنی مانند مراقبت از بیمار یا حمایت از آسیب‌پذیر یافت شود؟\n",
      "پاسخ: 1.مداد و طول و ارتفاع این قسمت از بدن نیست 2.بدون این‌ها کارهای بد روی بدن نیست و بدن هم محدود به کارهای بد نیست و این کارهای بد روی بدن در یک مدت نیست 3.بدون کارهای بد بدن این بد در یک مدت نیست 4.بدون کارهای بد بدن هم مانند پرواز نیست 5.بدون پرواز در این بدن نیست 6.بدون پرواز محدود به این بدن نیست 7.بدون پرواز در این بدن هم مثل لذت یابند یا لذت بردن به لذت بردن 8.بدون پرواز به سمت خداوند در این بدن نیست 9.بدون پرواز هم مثل لذت بردن به لذت بردن 10.بدون پرواز به سمت مقام ولایت در این بدن نیست 11.بدون این لذت بخاطر اینه که فقر و نیاز نیست. 12.بدون این فقر و نیاز فقر و در دسترس نیست و به دست نیفتن و دست اندر دست پای ماست 13.بدون فقر و نیاز انسان در این فقر به دنبال لذت بردن نیست ولی به دنبال سعادت نیست 14\n"
     ]
    }
   ],
   "source": [
    "q_norm = normalize_text(\"چه نوع لذتی می‌تواند در انجام کارهای ناگفتنی مانند مراقبت از بیمار یا حمایت از آسیب‌پذیر یافت شود؟\")\n",
    "text = f\"سوال: {q_norm}\\nپاسخ: \"\n",
    "output = tokenizer.decode(\n",
    "    model.generate(\n",
    "        **tokenizer(text, return_tensors=\"pt\").to(\n",
    "            \"cuda\"\n",
    "        ),\n",
    "        max_new_tokens=256,\n",
    "    )[0],\n",
    "    skip_special_tokens=True\n",
    ")\n",
    "print(output)"
   ]
  }
 ],
 "metadata": {
  "kernelspec": {
   "display_name": ".env",
   "language": "python",
   "name": "python3"
  },
  "language_info": {
   "codemirror_mode": {
    "name": "ipython",
    "version": 3
   },
   "file_extension": ".py",
   "mimetype": "text/x-python",
   "name": "python",
   "nbconvert_exporter": "python",
   "pygments_lexer": "ipython3",
   "version": "3.12.3"
  }
 },
 "nbformat": 4,
 "nbformat_minor": 5
}
