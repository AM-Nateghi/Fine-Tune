{
 "cells": [
  {
   "cell_type": "code",
   "execution_count": null,
   "id": "2578c9a8",
   "metadata": {},
   "outputs": [
    {
     "name": "stdout",
     "output_type": "stream",
     "text": [
      "\u001b[1muser: \u001b[0m AM-Nateghi\n"
     ]
    }
   ],
   "source": [
    "import huggingface_hub\n",
    "hf_token = '' # put your User Access Tokens here\n",
    "# ابتدا login کنید\n",
    "huggingface_hub.login(token=hf_token)\n",
    "\n",
    "# سپس وضعیت ورود را بررسی کنید\n",
    "!hf auth whoami"
   ]
  },
  {
   "cell_type": "code",
   "execution_count": 3,
   "id": "e1d35e9f",
   "metadata": {},
   "outputs": [],
   "source": [
    "from transformers import AutoModelForCausalLM, AutoTokenizer, DataCollatorWithPadding\n",
    "from peft import prepare_model_for_kbit_training\n",
    "import torch\n",
    "\n",
    "cptk = \"google/gemma-3-1b-pt\"\n",
    "from transformers import BitsAndBytesConfig\n",
    "tokenizer = AutoTokenizer.from_pretrained(cptk)\n",
    "bnb_config = BitsAndBytesConfig(\n",
    "    load_in_4bit=True,\n",
    "    bnb_4bit_compute_dtype=torch.float16,\n",
    "    bnb_4bit_use_double_quant=True,\n",
    "    bnb_4bit_quant_type=\"nf4\",\n",
    ")\n",
    "model = AutoModelForCausalLM.from_pretrained(\n",
    "    cptk,\n",
    "    quantization_config=bnb_config,\n",
    "    device_map=\"auto\",\n",
    "    dtype=torch.float16,\n",
    ")\n",
    "model = prepare_model_for_kbit_training(model)\n",
    "\n",
    "model.config.use_cache = False # for Gradient checkpointing\n",
    "model.gradient_checkpointing_enable()"
   ]
  },
  {
   "cell_type": "code",
   "execution_count": 4,
   "id": "585ac2e0",
   "metadata": {},
   "outputs": [],
   "source": [
    "from peft import LoraConfig, get_peft_model, TaskType\n",
    "\n",
    "lora_conf = LoraConfig(\n",
    "    r=16,\n",
    "    lora_alpha=16,\n",
    "    target_modules=[\"q_proj\", \"v_proj\"],\n",
    "    lora_dropout=0.1,\n",
    "    bias='none',\n",
    "    task_type=TaskType.CAUSAL_LM\n",
    ")\n",
    "model = get_peft_model(model, lora_conf)"
   ]
  },
  {
   "cell_type": "code",
   "execution_count": 5,
   "id": "219036c0",
   "metadata": {},
   "outputs": [
    {
     "name": "stderr",
     "output_type": "stream",
     "text": [
      "Map: 100%|██████████| 893/893 [00:00<00:00, 1105.40 examples/s]\n",
      "Map: 100%|██████████| 48/48 [00:00<00:00, 847.26 examples/s]\n"
     ]
    }
   ],
   "source": [
    "from datasets import load_dataset\n",
    "\n",
    "dataset = load_dataset(\n",
    "    \"json\", data_files={\"train\": \"assets/qa_train.json\", \"test\": \"assets/qa_test.json\"}\n",
    ")\n",
    "\n",
    "\n",
    "def formatter(batch):\n",
    "    tokened = tokenizer(batch[\"input\"], truncation=True, max_length=1024, padding=\"max_length\")\n",
    "    tokened[\"labels\"] = tokenizer(\n",
    "        batch[\"output\"], truncation=True, max_length=1024, padding=\"max_length\"\n",
    "    )[\"input_ids\"]\n",
    "\n",
    "    return tokened\n",
    "\n",
    "\n",
    "tokenized_dataset = dataset.map(formatter, batched=True)"
   ]
  },
  {
   "cell_type": "code",
   "execution_count": 9,
   "id": "a2d7e606",
   "metadata": {},
   "outputs": [],
   "source": [
    "torch.cuda.empty_cache()"
   ]
  },
  {
   "cell_type": "code",
   "execution_count": 7,
   "id": "bc64e461",
   "metadata": {},
   "outputs": [],
   "source": [
    "# اگر مدل فاقد pad_token است، آن را به eos-tokenنسبت دهید:\n",
    "if tokenizer.pad_token is None:\n",
    "    tokenizer.pad_token = tokenizer.eos_token\n",
    "\n",
    "data_collator = DataCollatorWithPadding(tokenizer=tokenizer, padding=True, return_tensors=\"pt\")"
   ]
  },
  {
   "cell_type": "code",
   "execution_count": 8,
   "id": "6e7e451b",
   "metadata": {},
   "outputs": [
    {
     "name": "stderr",
     "output_type": "stream",
     "text": [
      "Truncating train dataset: 100%|██████████| 893/893 [00:00<00:00, 3520.56 examples/s]\n",
      "Truncating eval dataset: 100%|██████████| 48/48 [00:00<00:00, 7550.50 examples/s]\n",
      "It is strongly recommended to train Gemma3 models with the `eager` attention implementation instead of `sdpa`. Use `eager` with `AutoModelForCausalLM.from_pretrained('<path-to-checkpoint>', attn_implementation='eager')`.\n"
     ]
    },
    {
     "data": {
      "text/html": [
       "\n",
       "    <div>\n",
       "      \n",
       "      <progress value='672' max='672' style='width:300px; height:20px; vertical-align: middle;'></progress>\n",
       "      [672/672 27:22, Epoch 3/3]\n",
       "    </div>\n",
       "    <table border=\"1\" class=\"dataframe\">\n",
       "  <thead>\n",
       " <tr style=\"text-align: left;\">\n",
       "      <th>Step</th>\n",
       "      <th>Training Loss</th>\n",
       "      <th>Validation Loss</th>\n",
       "      <th>Entropy</th>\n",
       "      <th>Num Tokens</th>\n",
       "      <th>Mean Token Accuracy</th>\n",
       "    </tr>\n",
       "  </thead>\n",
       "  <tbody>\n",
       "    <tr>\n",
       "      <td>50</td>\n",
       "      <td>8.592000</td>\n",
       "      <td>8.593680</td>\n",
       "      <td>8.605148</td>\n",
       "      <td>204800.000000</td>\n",
       "      <td>0.003605</td>\n",
       "    </tr>\n",
       "    <tr>\n",
       "      <td>100</td>\n",
       "      <td>7.639800</td>\n",
       "      <td>7.497564</td>\n",
       "      <td>8.122779</td>\n",
       "      <td>409600.000000</td>\n",
       "      <td>0.003768</td>\n",
       "    </tr>\n",
       "    <tr>\n",
       "      <td>150</td>\n",
       "      <td>6.997200</td>\n",
       "      <td>6.932827</td>\n",
       "      <td>8.382818</td>\n",
       "      <td>614400.000000</td>\n",
       "      <td>0.884918</td>\n",
       "    </tr>\n",
       "    <tr>\n",
       "      <td>200</td>\n",
       "      <td>6.484100</td>\n",
       "      <td>6.545558</td>\n",
       "      <td>8.340026</td>\n",
       "      <td>819200.000000</td>\n",
       "      <td>0.884897</td>\n",
       "    </tr>\n",
       "    <tr>\n",
       "      <td>250</td>\n",
       "      <td>6.407800</td>\n",
       "      <td>6.422260</td>\n",
       "      <td>8.184191</td>\n",
       "      <td>1020928.000000</td>\n",
       "      <td>0.004114</td>\n",
       "    </tr>\n",
       "    <tr>\n",
       "      <td>300</td>\n",
       "      <td>6.282000</td>\n",
       "      <td>6.259655</td>\n",
       "      <td>8.315868</td>\n",
       "      <td>1225728.000000</td>\n",
       "      <td>0.885529</td>\n",
       "    </tr>\n",
       "    <tr>\n",
       "      <td>350</td>\n",
       "      <td>6.078900</td>\n",
       "      <td>6.156260</td>\n",
       "      <td>8.287569</td>\n",
       "      <td>1430528.000000</td>\n",
       "      <td>0.885427</td>\n",
       "    </tr>\n",
       "    <tr>\n",
       "      <td>400</td>\n",
       "      <td>6.186900</td>\n",
       "      <td>6.082537</td>\n",
       "      <td>8.276319</td>\n",
       "      <td>1635328.000000</td>\n",
       "      <td>0.885630</td>\n",
       "    </tr>\n",
       "    <tr>\n",
       "      <td>450</td>\n",
       "      <td>6.084100</td>\n",
       "      <td>6.033286</td>\n",
       "      <td>8.233993</td>\n",
       "      <td>1837056.000000</td>\n",
       "      <td>0.004623</td>\n",
       "    </tr>\n",
       "    <tr>\n",
       "      <td>500</td>\n",
       "      <td>5.967500</td>\n",
       "      <td>6.007616</td>\n",
       "      <td>8.262590</td>\n",
       "      <td>2041856.000000</td>\n",
       "      <td>0.885569</td>\n",
       "    </tr>\n",
       "    <tr>\n",
       "      <td>550</td>\n",
       "      <td>5.839600</td>\n",
       "      <td>5.964727</td>\n",
       "      <td>8.258688</td>\n",
       "      <td>2246656.000000</td>\n",
       "      <td>0.885630</td>\n",
       "    </tr>\n",
       "    <tr>\n",
       "      <td>600</td>\n",
       "      <td>5.909000</td>\n",
       "      <td>5.957594</td>\n",
       "      <td>8.191669</td>\n",
       "      <td>2451456.000000</td>\n",
       "      <td>0.885630</td>\n",
       "    </tr>\n",
       "    <tr>\n",
       "      <td>650</td>\n",
       "      <td>5.853600</td>\n",
       "      <td>5.926832</td>\n",
       "      <td>8.221679</td>\n",
       "      <td>2656256.000000</td>\n",
       "      <td>0.885712</td>\n",
       "    </tr>\n",
       "  </tbody>\n",
       "</table><p>"
      ],
      "text/plain": [
       "<IPython.core.display.HTML object>"
      ]
     },
     "metadata": {},
     "output_type": "display_data"
    },
    {
     "data": {
      "text/plain": [
       "TrainOutput(global_step=672, training_loss=6.764415201686678, metrics={'train_runtime': 1644.686, 'train_samples_per_second': 1.629, 'train_steps_per_second': 0.409, 'total_flos': 1.1511753488990208e+16, 'train_loss': 6.764415201686678, 'epoch': 3.0})"
      ]
     },
     "execution_count": 8,
     "metadata": {},
     "output_type": "execute_result"
    }
   ],
   "source": [
    "from trl import SFTTrainer\n",
    "from transformers import TrainingArguments, EarlyStoppingCallback\n",
    "\n",
    "callbacks = [EarlyStoppingCallback(early_stopping_patience=8)]\n",
    "\n",
    "training_args = TrainingArguments(\n",
    "    output_dir=\"./gemma_qlora\",\n",
    "    per_device_train_batch_size=1,\n",
    "    gradient_accumulation_steps=4,\n",
    "    num_train_epochs=3,\n",
    "    learning_rate=2e-4,\n",
    "    fp16=True,\n",
    "    logging_steps=5,\n",
    "    eval_steps=50,\n",
    "    save_steps=50,\n",
    "    save_total_limit=2,\n",
    "    metric_for_best_model=\"loss\",\n",
    "    save_strategy='steps',\n",
    "    eval_strategy=\"steps\",\n",
    "    gradient_checkpointing=True,\n",
    "    load_best_model_at_end=True,\n",
    ")\n",
    "\n",
    "trainer = SFTTrainer(\n",
    "    model=model,\n",
    "    train_dataset=tokenized_dataset[\"train\"],\n",
    "    eval_dataset=tokenized_dataset[\"test\"],\n",
    "    args=training_args,\n",
    "    callbacks=callbacks,\n",
    "    data_collator=data_collator,\n",
    ")\n",
    "trainer.train()"
   ]
  }
 ],
 "metadata": {
  "kernelspec": {
   "display_name": ".env",
   "language": "python",
   "name": "python3"
  },
  "language_info": {
   "codemirror_mode": {
    "name": "ipython",
    "version": 3
   },
   "file_extension": ".py",
   "mimetype": "text/x-python",
   "name": "python",
   "nbconvert_exporter": "python",
   "pygments_lexer": "ipython3",
   "version": "3.12.3"
  }
 },
 "nbformat": 4,
 "nbformat_minor": 5
}
