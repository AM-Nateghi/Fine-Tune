{
 "cells": [
  {
   "cell_type": "code",
   "execution_count": 7,
   "id": "6a1c7e64",
   "metadata": {},
   "outputs": [],
   "source": [
    "import os\n",
    "import fitz  # PyMuPDF\n",
    "import json\n",
    "import re\n",
    "\n",
    "pdf_path = \"اخلاق کار تشکیلاتی.pdf\"\n",
    "book_title = \"اخلاق کار تشکیلاتی\"\n",
    "output_dir = \"ChunkedBook\"\n",
    "output_path = f\"{output_dir}/اخلاق_کار_تشکیلاتی_chunks.jsonl\"\n",
    "\n",
    "# ساخت پوشه اگر وجود ندارد\n",
    "os.makedirs(output_dir, exist_ok=True)\n",
    "\n",
    "doc = fitz.open(f\"Books/{pdf_path}\")\n",
    "chunks = []\n",
    "\n",
    "current_chapter = \"مقدمه\"\n",
    "\n",
    "def clean_text(text):\n",
    "    # حذف فوترهای تکراری\n",
    "    junk_phrases = [\n",
    "        \"هسسوم ناناوج ناتسآ سدق یوضر\",  # وارونه\n",
    "        \"رضوی قدس آستان جوانان موسسه\",  # اصل\n",
    "        \"اخالق کارِ تشکیالتی\",\n",
    "    ]\n",
    "    for junk in junk_phrases:\n",
    "        text = text.replace(junk, \"\")\n",
    "    # حذف کشیدگی‌های غیرطبیعی: سه یا بیشتر از یک حرف تکراری\n",
    "    text = re.sub(r\"([اآبپتثجچحخدذرزژسشصضطظعغفقکگلمنوهی])\\u200c{2,}\", r\"\\1\", text)\n",
    "    # حذف فاصله‌های زیاد بین حروف\n",
    "    text = re.sub(r\"(\\w)\\s{2,}(\\w)\", r\"\\1 \\2\", text)\n",
    "    # حذف کشیدگی‌های تزئینی (مثلاً ســؤال → سؤال)\n",
    "    text = re.sub(r\"([اآبپتثجچحخدذرزژسشصضطظعغفقکگلمنوهی])\\s*ـ+\\s*\", r\"\\1\", text)\n",
    "    # تبدیل چندین \\n به یک \\n\\n برای حفظ پاراگراف‌ها\n",
    "    text = re.sub(r\"\\n{3,}\", \"\\n\\n\", text)\n",
    "    # تبدیل \\n وسط جمله به فاصله ساده\n",
    "    text = re.sub(r\"(?<!\\n)\\n(?!\\n)\", \" \", text)\n",
    "\n",
    "    return text.strip()"
   ]
  },
  {
   "cell_type": "code",
   "execution_count": 8,
   "id": "13e69914",
   "metadata": {},
   "outputs": [
    {
     "name": "stdout",
     "output_type": "stream",
     "text": [
      "✅ استخراج کامل شد. تعداد صفحات: 79. خروجی: ChunkedBook/اخلاق_کار_تشکیلاتی_chunks.jsonl\n"
     ]
    }
   ],
   "source": [
    "for page_num, page in enumerate(doc, start=1):\n",
    "    text = page.get_text(\"text\").strip()\n",
    "    text = clean_text(text)\n",
    "    # تشخیص عنوان فصل (ساده: اگر خط اول بزرگ و جدا باشد)\n",
    "    lines = text.split(\"\\n\")\n",
    "    if len(lines) > 0 and len(lines[0]) < 50 and lines[0].isalpha():\n",
    "        for line in lines[:5]:\n",
    "            if \"فصل\" in line or \"بخش\" in line:\n",
    "                current_chapter = line.strip()\n",
    "                break\n",
    "\n",
    "    chunk = {\n",
    "        \"book\": book_title,\n",
    "        \"chapter\": current_chapter,\n",
    "        \"page\": page_num,\n",
    "        \"text\": text,\n",
    "    }\n",
    "    chunks.append(chunk)\n",
    "\n",
    "# ذخیره در قالب JSONL\n",
    "with open(output_path, \"w\", encoding=\"utf-8\") as f:\n",
    "    for chunk in chunks:\n",
    "        f.write(json.dumps(chunk, ensure_ascii=False) + \"\\n\")\n",
    "\n",
    "print(f\"✅ استخراج کامل شد. تعداد صفحات: {len(chunks)}. خروجی: {output_path}\")"
   ]
  }
 ],
 "metadata": {
  "kernelspec": {
   "display_name": ".env",
   "language": "python",
   "name": "python3"
  },
  "language_info": {
   "codemirror_mode": {
    "name": "ipython",
    "version": 3
   },
   "file_extension": ".py",
   "mimetype": "text/x-python",
   "name": "python",
   "nbconvert_exporter": "python",
   "pygments_lexer": "ipython3",
   "version": "3.12.3"
  }
 },
 "nbformat": 4,
 "nbformat_minor": 5
}
